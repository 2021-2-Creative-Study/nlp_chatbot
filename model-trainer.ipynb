{
 "cells": [
  {
   "cell_type": "code",
   "execution_count": 14,
   "metadata": {},
   "outputs": [],
   "source": [
    "import pandas as pd\n",
    "import numpy as np\n",
    "import joblib\n",
    "\n",
    "from sklearn.ensemble import RandomForestClassifier\n",
    "from sklearn.feature_extraction.text import TfidfVectorizer\n",
    "from sklearn.model_selection import train_test_split\n",
    "\n",
    "from sklearn.metrics import accuracy_score, f1_score"
   ]
  },
  {
   "cell_type": "code",
   "execution_count": 2,
   "metadata": {},
   "outputs": [],
   "source": [
    "df = pd.read_csv('question_data.csv')"
   ]
  },
  {
   "cell_type": "code",
   "execution_count": 3,
   "metadata": {},
   "outputs": [],
   "source": [
    "df = df.loc[df.id >= 3]"
   ]
  },
  {
   "cell_type": "code",
   "execution_count": 4,
   "metadata": {},
   "outputs": [],
   "source": [
    "texts = list(df.Question)"
   ]
  },
  {
   "cell_type": "code",
   "execution_count": 5,
   "metadata": {},
   "outputs": [],
   "source": [
    "tfidf_vectorizer = TfidfVectorizer()\n",
    "\n",
    "tfidf_vectorizer.fit(texts)\n",
    "tfidf = tfidf_vectorizer.transform(texts).toarray()\n",
    "tfidf_df = pd.DataFrame(tfidf)"
   ]
  },
  {
   "cell_type": "code",
   "execution_count": 6,
   "metadata": {},
   "outputs": [],
   "source": [
    "X_train, X_val, y_train, y_val = train_test_split(tfidf_df, df.id, test_size=0.2, shuffle=True, stratify=df.id, random_state=42)"
   ]
  },
  {
   "cell_type": "code",
   "execution_count": 7,
   "metadata": {},
   "outputs": [],
   "source": [
    "X_train = X_train.reset_index().drop(['index'], axis=1)\n",
    "X_val = X_val.reset_index().drop(['index'], axis=1)\n",
    "\n",
    "y_train = y_train.reset_index().drop(['index'],axis=1).values\n",
    "y_val = y_val.reset_index().drop(['index'],axis=1).values\n",
    "\n",
    "y_train = y_train.reshape(-1,)\n",
    "y_val = y_val.reshape(-1,)"
   ]
  },
  {
   "cell_type": "markdown",
   "metadata": {},
   "source": [
    "[기본 성능]\n",
    "\n",
    "-> Train Socre : 0.989247311827957\n",
    "\n",
    "-> Validation Score : 0.7804295942720764\n",
    "\n",
    "---\n",
    "\n",
    "[튜닝 성능]\n",
    "\n",
    "n_estimators=2000, max_depth=200, max_features='log2', random_state=42\n",
    "\n",
    "-> Train Accuracy Socre : 0.9895470383275261\n",
    "\n",
    "-> Train F1 Socre : 0.9895470383275261\n",
    "\n",
    "-> Validation Accuracy Score : 0.8551532033426184\n",
    "\n",
    "-> Validation F1 Score : 0.8551532033426182"
   ]
  },
  {
   "cell_type": "code",
   "execution_count": 17,
   "metadata": {},
   "outputs": [
    {
     "name": "stdout",
     "output_type": "stream",
     "text": [
      "Train Accuracy Socre : 0.9895470383275261\n",
      "Train F1 Socre : 0.9895470383275261\n",
      "=============================================\n",
      "Validation Accuracy Score : 0.8551532033426184\n",
      "Validation F1 Score : 0.8551532033426182\n"
     ]
    }
   ],
   "source": [
    "rf = RandomForestClassifier(n_estimators=2000, max_depth=200, max_features='log2', random_state=42)\n",
    "\n",
    "rf.fit(X_train, y_train)\n",
    "\n",
    "print(f\"Train Accuracy Socre : {accuracy_score(y_train, rf.predict(X_train))}\")\n",
    "print(f\"Train F1 Socre : {f1_score(y_train, rf.predict(X_train), average='micro')}\")\n",
    "print(\"=========\"*5)\n",
    "print(f\"Validation Accuracy Score : {accuracy_score(y_val, rf.predict(X_val))}\")\n",
    "print(f\"Validation F1 Score : {f1_score(y_val, rf.predict(X_val), average='micro')}\")"
   ]
  },
  {
   "cell_type": "code",
   "execution_count": 18,
   "metadata": {},
   "outputs": [
    {
     "data": {
      "text/plain": [
       "['random-forest-0.8551.pkl']"
      ]
     },
     "execution_count": 18,
     "metadata": {},
     "output_type": "execute_result"
    }
   ],
   "source": [
    "joblib.dump(rf, 'random-forest-0.8551.pkl')"
   ]
  },
  {
   "cell_type": "code",
   "execution_count": 19,
   "metadata": {},
   "outputs": [],
   "source": [
    "rf_from_joblib = joblib.load('random-forest-0.8551.pkl')"
   ]
  },
  {
   "cell_type": "code",
   "execution_count": 32,
   "metadata": {},
   "outputs": [
    {
     "data": {
      "text/plain": [
       "array([145], dtype=int64)"
      ]
     },
     "execution_count": 32,
     "metadata": {},
     "output_type": "execute_result"
    }
   ],
   "source": [
    "question = ['영어인증 어디서 해?']\n",
    "\n",
    "tfidf = tfidf_vectorizer.transform(question).toarray()\n",
    "tfidf_df = pd.DataFrame(tfidf)\n",
    "\n",
    "rf_from_joblib.predict(tfidf_df)"
   ]
  },
  {
   "cell_type": "code",
   "execution_count": 33,
   "metadata": {},
   "outputs": [
    {
     "data": {
      "text/html": [
       "<div>\n",
       "<style scoped>\n",
       "    .dataframe tbody tr th:only-of-type {\n",
       "        vertical-align: middle;\n",
       "    }\n",
       "\n",
       "    .dataframe tbody tr th {\n",
       "        vertical-align: top;\n",
       "    }\n",
       "\n",
       "    .dataframe thead th {\n",
       "        text-align: right;\n",
       "    }\n",
       "</style>\n",
       "<table border=\"1\" class=\"dataframe\">\n",
       "  <thead>\n",
       "    <tr style=\"text-align: right;\">\n",
       "      <th></th>\n",
       "      <th>Question</th>\n",
       "      <th>id</th>\n",
       "    </tr>\n",
       "  </thead>\n",
       "  <tbody>\n",
       "    <tr>\n",
       "      <th>204</th>\n",
       "      <td>영어인증 점수</td>\n",
       "      <td>145</td>\n",
       "    </tr>\n",
       "    <tr>\n",
       "      <th>205</th>\n",
       "      <td>영어인증 점수 몇점이야?</td>\n",
       "      <td>145</td>\n",
       "    </tr>\n",
       "    <tr>\n",
       "      <th>206</th>\n",
       "      <td>영어인증은 몇점이상이어야 할 수 있어?</td>\n",
       "      <td>145</td>\n",
       "    </tr>\n",
       "    <tr>\n",
       "      <th>207</th>\n",
       "      <td>영어졸업인증 기준 점수가 어떻게 돼?</td>\n",
       "      <td>145</td>\n",
       "    </tr>\n",
       "    <tr>\n",
       "      <th>208</th>\n",
       "      <td>영어졸업인증 점수</td>\n",
       "      <td>145</td>\n",
       "    </tr>\n",
       "  </tbody>\n",
       "</table>\n",
       "</div>"
      ],
      "text/plain": [
       "                  Question   id\n",
       "204                영어인증 점수  145\n",
       "205          영어인증 점수 몇점이야?  145\n",
       "206  영어인증은 몇점이상이어야 할 수 있어?  145\n",
       "207   영어졸업인증 기준 점수가 어떻게 돼?  145\n",
       "208              영어졸업인증 점수  145"
      ]
     },
     "execution_count": 33,
     "metadata": {},
     "output_type": "execute_result"
    }
   ],
   "source": [
    "df[df.id == 145]"
   ]
  }
 ],
 "metadata": {
  "interpreter": {
   "hash": "33a3111211be4281f3a8c4a9b25563b8d253df502c7e31f5318895c1792a97cb"
  },
  "kernelspec": {
   "display_name": "Python 3.8.8 64-bit ('py38': conda)",
   "language": "python",
   "name": "python3"
  },
  "language_info": {
   "codemirror_mode": {
    "name": "ipython",
    "version": 3
   },
   "file_extension": ".py",
   "mimetype": "text/x-python",
   "name": "python",
   "nbconvert_exporter": "python",
   "pygments_lexer": "ipython3",
   "version": "3.8.8"
  },
  "orig_nbformat": 4
 },
 "nbformat": 4,
 "nbformat_minor": 2
}
