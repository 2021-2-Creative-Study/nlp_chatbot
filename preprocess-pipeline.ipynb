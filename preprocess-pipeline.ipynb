{
 "cells": [
  {
   "cell_type": "code",
   "execution_count": 1,
   "metadata": {},
   "outputs": [],
   "source": [
    "import pandas as pd\n",
    "import numpy as np\n",
    "import joblib\n",
    "\n",
    "from sklearn.ensemble import RandomForestClassifier\n",
    "from sklearn.feature_extraction.text import TfidfVectorizer\n",
    "from sklearn.model_selection import train_test_split\n",
    "\n",
    "from sklearn.metrics import accuracy_score"
   ]
  },
  {
   "cell_type": "code",
   "execution_count": 2,
   "metadata": {},
   "outputs": [],
   "source": [
    "df = pd.read_csv('question_data.csv')"
   ]
  },
  {
   "cell_type": "code",
   "execution_count": 19,
   "metadata": {},
   "outputs": [
    {
     "data": {
      "text/html": [
       "<div>\n",
       "<style scoped>\n",
       "    .dataframe tbody tr th:only-of-type {\n",
       "        vertical-align: middle;\n",
       "    }\n",
       "\n",
       "    .dataframe tbody tr th {\n",
       "        vertical-align: top;\n",
       "    }\n",
       "\n",
       "    .dataframe thead th {\n",
       "        text-align: right;\n",
       "    }\n",
       "</style>\n",
       "<table border=\"1\" class=\"dataframe\">\n",
       "  <thead>\n",
       "    <tr style=\"text-align: right;\">\n",
       "      <th></th>\n",
       "      <th>Question</th>\n",
       "      <th>id</th>\n",
       "    </tr>\n",
       "  </thead>\n",
       "  <tbody>\n",
       "    <tr>\n",
       "      <th>591</th>\n",
       "      <td>공부 어디서 할까</td>\n",
       "      <td>139</td>\n",
       "    </tr>\n",
       "    <tr>\n",
       "      <th>592</th>\n",
       "      <td>공부하기 좋은카페 추천해주세요</td>\n",
       "      <td>139</td>\n",
       "    </tr>\n",
       "    <tr>\n",
       "      <th>593</th>\n",
       "      <td>공부할만한 곳 추천좀요</td>\n",
       "      <td>139</td>\n",
       "    </tr>\n",
       "    <tr>\n",
       "      <th>594</th>\n",
       "      <td>내일 면담하러 학교가는데 공부할 카페 추천해주세요</td>\n",
       "      <td>139</td>\n",
       "    </tr>\n",
       "    <tr>\n",
       "      <th>595</th>\n",
       "      <td>대학교 내에있는 카페에서 공부할만해?</td>\n",
       "      <td>139</td>\n",
       "    </tr>\n",
       "    <tr>\n",
       "      <th>596</th>\n",
       "      <td>비대면이랑 대면수업이랑 붙어있는데 학교 카페 괜찮나?</td>\n",
       "      <td>139</td>\n",
       "    </tr>\n",
       "    <tr>\n",
       "      <th>597</th>\n",
       "      <td>새내긴데 도서관에 실시간강의 들을 시설 있어?</td>\n",
       "      <td>139</td>\n",
       "    </tr>\n",
       "    <tr>\n",
       "      <th>598</th>\n",
       "      <td>시험기간 학교 카페에서 같이공부하실분?</td>\n",
       "      <td>139</td>\n",
       "    </tr>\n",
       "    <tr>\n",
       "      <th>599</th>\n",
       "      <td>아 공부할곳이없어...</td>\n",
       "      <td>139</td>\n",
       "    </tr>\n",
       "    <tr>\n",
       "      <th>600</th>\n",
       "      <td>아샷추 맛있는 학교 카페 빨리 추천좀</td>\n",
       "      <td>139</td>\n",
       "    </tr>\n",
       "    <tr>\n",
       "      <th>601</th>\n",
       "      <td>오늘 학교 안에 카페</td>\n",
       "      <td>139</td>\n",
       "    </tr>\n",
       "    <tr>\n",
       "      <th>602</th>\n",
       "      <td>오전수업들을곳</td>\n",
       "      <td>139</td>\n",
       "    </tr>\n",
       "    <tr>\n",
       "      <th>603</th>\n",
       "      <td>우리학교 카페 중에서 어디가 제일 좋냐</td>\n",
       "      <td>139</td>\n",
       "    </tr>\n",
       "    <tr>\n",
       "      <th>604</th>\n",
       "      <td>제주몰빵에 자리가없어서 방황중인데... 또 갈 수 있는 카페 있나?</td>\n",
       "      <td>139</td>\n",
       "    </tr>\n",
       "    <tr>\n",
       "      <th>605</th>\n",
       "      <td>카페 추천해주세요!!</td>\n",
       "      <td>139</td>\n",
       "    </tr>\n",
       "    <tr>\n",
       "      <th>606</th>\n",
       "      <td>카페ㅊㅊ좀</td>\n",
       "      <td>139</td>\n",
       "    </tr>\n",
       "    <tr>\n",
       "      <th>607</th>\n",
       "      <td>카페추천</td>\n",
       "      <td>139</td>\n",
       "    </tr>\n",
       "    <tr>\n",
       "      <th>608</th>\n",
       "      <td>팀플 장소 추천</td>\n",
       "      <td>139</td>\n",
       "    </tr>\n",
       "    <tr>\n",
       "      <th>609</th>\n",
       "      <td>학교 근처 카페 혼공 추천좀</td>\n",
       "      <td>139</td>\n",
       "    </tr>\n",
       "    <tr>\n",
       "      <th>610</th>\n",
       "      <td>학교 아이스티 싼 카페</td>\n",
       "      <td>139</td>\n",
       "    </tr>\n",
       "    <tr>\n",
       "      <th>611</th>\n",
       "      <td>학교 안 or 근처에 콘센트 있는 카페 뭐있을까요ㅠㅠ?</td>\n",
       "      <td>139</td>\n",
       "    </tr>\n",
       "    <tr>\n",
       "      <th>612</th>\n",
       "      <td>학교 안에 카페 추천좀요</td>\n",
       "      <td>139</td>\n",
       "    </tr>\n",
       "    <tr>\n",
       "      <th>613</th>\n",
       "      <td>학교 카페 어디가 괜찮아?? 카공하기에</td>\n",
       "      <td>139</td>\n",
       "    </tr>\n",
       "    <tr>\n",
       "      <th>614</th>\n",
       "      <td>학교 카페 추천좀</td>\n",
       "      <td>139</td>\n",
       "    </tr>\n",
       "    <tr>\n",
       "      <th>615</th>\n",
       "      <td>학교 카페중에 젤 괜찮은데 어딘가요?? 친구가 놀러와서</td>\n",
       "      <td>139</td>\n",
       "    </tr>\n",
       "    <tr>\n",
       "      <th>616</th>\n",
       "      <td>학교 카페중에 카공 잘되는 곳 있나요??</td>\n",
       "      <td>139</td>\n",
       "    </tr>\n",
       "    <tr>\n",
       "      <th>617</th>\n",
       "      <td>학교내 싸고 맛있는 카페</td>\n",
       "      <td>139</td>\n",
       "    </tr>\n",
       "    <tr>\n",
       "      <th>618</th>\n",
       "      <td>학교내부나 근처에 가성비 좋은 카페어디없으요?</td>\n",
       "      <td>139</td>\n",
       "    </tr>\n",
       "    <tr>\n",
       "      <th>619</th>\n",
       "      <td>학교에 와이파이 되는 카페나 공부할 곳</td>\n",
       "      <td>139</td>\n",
       "    </tr>\n",
       "    <tr>\n",
       "      <th>620</th>\n",
       "      <td>학교카페 추천좀해주세여</td>\n",
       "      <td>139</td>\n",
       "    </tr>\n",
       "    <tr>\n",
       "      <th>621</th>\n",
       "      <td>학교카페(공부할 곳)</td>\n",
       "      <td>139</td>\n",
       "    </tr>\n",
       "  </tbody>\n",
       "</table>\n",
       "</div>"
      ],
      "text/plain": [
       "                                  Question   id\n",
       "591                              공부 어디서 할까  139\n",
       "592                       공부하기 좋은카페 추천해주세요  139\n",
       "593                           공부할만한 곳 추천좀요  139\n",
       "594            내일 면담하러 학교가는데 공부할 카페 추천해주세요  139\n",
       "595                   대학교 내에있는 카페에서 공부할만해?  139\n",
       "596          비대면이랑 대면수업이랑 붙어있는데 학교 카페 괜찮나?  139\n",
       "597              새내긴데 도서관에 실시간강의 들을 시설 있어?  139\n",
       "598                  시험기간 학교 카페에서 같이공부하실분?  139\n",
       "599                           아 공부할곳이없어...  139\n",
       "600                   아샷추 맛있는 학교 카페 빨리 추천좀  139\n",
       "601                            오늘 학교 안에 카페  139\n",
       "602                                오전수업들을곳  139\n",
       "603                  우리학교 카페 중에서 어디가 제일 좋냐  139\n",
       "604  제주몰빵에 자리가없어서 방황중인데... 또 갈 수 있는 카페 있나?  139\n",
       "605                            카페 추천해주세요!!  139\n",
       "606                                  카페ㅊㅊ좀  139\n",
       "607                                   카페추천  139\n",
       "608                               팀플 장소 추천  139\n",
       "609                        학교 근처 카페 혼공 추천좀  139\n",
       "610                           학교 아이스티 싼 카페  139\n",
       "611         학교 안 or 근처에 콘센트 있는 카페 뭐있을까요ㅠㅠ?  139\n",
       "612                          학교 안에 카페 추천좀요  139\n",
       "613                  학교 카페 어디가 괜찮아?? 카공하기에  139\n",
       "614                              학교 카페 추천좀  139\n",
       "615         학교 카페중에 젤 괜찮은데 어딘가요?? 친구가 놀러와서  139\n",
       "616                 학교 카페중에 카공 잘되는 곳 있나요??  139\n",
       "617                          학교내 싸고 맛있는 카페  139\n",
       "618              학교내부나 근처에 가성비 좋은 카페어디없으요?  139\n",
       "619                  학교에 와이파이 되는 카페나 공부할 곳  139\n",
       "620                           학교카페 추천좀해주세여  139\n",
       "621                            학교카페(공부할 곳)  139"
      ]
     },
     "execution_count": 19,
     "metadata": {},
     "output_type": "execute_result"
    }
   ],
   "source": [
    "df[df.id == 139]"
   ]
  },
  {
   "cell_type": "code",
   "execution_count": 4,
   "metadata": {},
   "outputs": [],
   "source": [
    "texts = list(df.Question)"
   ]
  },
  {
   "cell_type": "code",
   "execution_count": 5,
   "metadata": {},
   "outputs": [],
   "source": [
    "tfidf_vectorizer = TfidfVectorizer()\n",
    "\n",
    "tfidf_vectorizer.fit(texts)\n",
    "tfidf = tfidf_vectorizer.transform(texts).toarray()\n",
    "tfidf_df = pd.DataFrame(tfidf)"
   ]
  },
  {
   "cell_type": "code",
   "execution_count": 6,
   "metadata": {},
   "outputs": [],
   "source": [
    "X_train, X_val, y_train, y_val = train_test_split(tfidf_df, df.id, test_size=0.2, shuffle=True, stratify=df.id, random_state=42)"
   ]
  },
  {
   "cell_type": "code",
   "execution_count": 7,
   "metadata": {},
   "outputs": [],
   "source": [
    "X_train = X_train.reset_index().drop(['index'], axis=1)\n",
    "X_val = X_val.reset_index().drop(['index'], axis=1)"
   ]
  },
  {
   "cell_type": "code",
   "execution_count": 8,
   "metadata": {},
   "outputs": [],
   "source": [
    "y_train = y_train.reset_index().drop(['index'],axis=1).values\n",
    "y_val = y_val.reset_index().drop(['index'],axis=1).values"
   ]
  },
  {
   "cell_type": "code",
   "execution_count": 9,
   "metadata": {},
   "outputs": [],
   "source": [
    "y_train = y_train.reshape(-1,)\n",
    "y_val = y_val.reshape(-1,)"
   ]
  },
  {
   "cell_type": "markdown",
   "metadata": {},
   "source": [
    "[기본 성능]\n",
    "\n",
    "-> Train Socre : 0.989247311827957\n",
    "\n",
    "-> Validation Score : 0.7804295942720764\n",
    "\n",
    "---\n",
    "\n",
    "[튜닝 성능]\n",
    "\n",
    "n_estimators=1250, max_depth=200, max_features='log2', random_state=42\n",
    "\n",
    "-> Train Socre : 0.9886499402628435\n",
    "\n",
    "-> Validation Score : 0.8233890214797136"
   ]
  },
  {
   "cell_type": "code",
   "execution_count": 14,
   "metadata": {},
   "outputs": [
    {
     "name": "stdout",
     "output_type": "stream",
     "text": [
      "Train Socre : 0.9886499402628435\n",
      "Validation Score : 0.8233890214797136\n"
     ]
    }
   ],
   "source": [
    "rf = RandomForestClassifier(n_estimators=1250, max_depth=200, max_features='log2', random_state=42)\n",
    "\n",
    "rf.fit(X_train, y_train)\n",
    "\n",
    "print(f\"Train Socre : {accuracy_score(y_train, rf.predict(X_train))}\")\n",
    "print(f\"Validation Score : {accuracy_score(y_val, rf.predict(X_val))}\")"
   ]
  },
  {
   "cell_type": "code",
   "execution_count": 15,
   "metadata": {},
   "outputs": [
    {
     "data": {
      "text/plain": [
       "['random-forest-0.8233890.pkl']"
      ]
     },
     "execution_count": 15,
     "metadata": {},
     "output_type": "execute_result"
    }
   ],
   "source": [
    "joblib.dump(rf, 'random-forest-0.8233890.pkl')"
   ]
  },
  {
   "cell_type": "code",
   "execution_count": 16,
   "metadata": {},
   "outputs": [],
   "source": [
    "rf_from_joblib = joblib.load('random-forest-0.8233890.pkl')"
   ]
  },
  {
   "cell_type": "code",
   "execution_count": 22,
   "metadata": {},
   "outputs": [
    {
     "data": {
      "text/plain": [
       "array([129], dtype=int64)"
      ]
     },
     "execution_count": 22,
     "metadata": {},
     "output_type": "execute_result"
    }
   ],
   "source": [
    "question = ['송진우 자동제어 어때?']\n",
    "\n",
    "tfidf = tfidf_vectorizer.transform(question).toarray()\n",
    "tfidf_df = pd.DataFrame(tfidf)\n",
    "\n",
    "rf_from_joblib.predict(tfidf_df)"
   ]
  },
  {
   "cell_type": "code",
   "execution_count": 23,
   "metadata": {},
   "outputs": [
    {
     "data": {
      "text/html": [
       "<div>\n",
       "<style scoped>\n",
       "    .dataframe tbody tr th:only-of-type {\n",
       "        vertical-align: middle;\n",
       "    }\n",
       "\n",
       "    .dataframe tbody tr th {\n",
       "        vertical-align: top;\n",
       "    }\n",
       "\n",
       "    .dataframe thead th {\n",
       "        text-align: right;\n",
       "    }\n",
       "</style>\n",
       "<table border=\"1\" class=\"dataframe\">\n",
       "  <thead>\n",
       "    <tr style=\"text-align: right;\">\n",
       "      <th></th>\n",
       "      <th>Question</th>\n",
       "      <th>id</th>\n",
       "    </tr>\n",
       "  </thead>\n",
       "  <tbody>\n",
       "    <tr>\n",
       "      <th>2089</th>\n",
       "      <td>송진우 자동제어 들을만해?</td>\n",
       "      <td>129</td>\n",
       "    </tr>\n",
       "    <tr>\n",
       "      <th>2090</th>\n",
       "      <td>송진우교수님 자동제어 수업 어때?</td>\n",
       "      <td>129</td>\n",
       "    </tr>\n",
       "    <tr>\n",
       "      <th>2091</th>\n",
       "      <td>자동제어 송진우</td>\n",
       "      <td>129</td>\n",
       "    </tr>\n",
       "    <tr>\n",
       "      <th>2092</th>\n",
       "      <td>자동제어 수업 송진우 교수님꺼 어때?</td>\n",
       "      <td>129</td>\n",
       "    </tr>\n",
       "  </tbody>\n",
       "</table>\n",
       "</div>"
      ],
      "text/plain": [
       "                  Question   id\n",
       "2089        송진우 자동제어 들을만해?  129\n",
       "2090    송진우교수님 자동제어 수업 어때?  129\n",
       "2091              자동제어 송진우  129\n",
       "2092  자동제어 수업 송진우 교수님꺼 어때?  129"
      ]
     },
     "execution_count": 23,
     "metadata": {},
     "output_type": "execute_result"
    }
   ],
   "source": [
    "df[df.id == 129]"
   ]
  }
 ],
 "metadata": {
  "interpreter": {
   "hash": "33a3111211be4281f3a8c4a9b25563b8d253df502c7e31f5318895c1792a97cb"
  },
  "kernelspec": {
   "display_name": "Python 3.8.8 64-bit ('py38': conda)",
   "language": "python",
   "name": "python3"
  },
  "language_info": {
   "codemirror_mode": {
    "name": "ipython",
    "version": 3
   },
   "file_extension": ".py",
   "mimetype": "text/x-python",
   "name": "python",
   "nbconvert_exporter": "python",
   "pygments_lexer": "ipython3",
   "version": "3.8.8"
  },
  "orig_nbformat": 4
 },
 "nbformat": 4,
 "nbformat_minor": 2
}
